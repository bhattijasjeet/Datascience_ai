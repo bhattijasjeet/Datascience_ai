{
  "nbformat": 4,
  "nbformat_minor": 0,
  "metadata": {
    "colab": {
      "provenance": [],
      "authorship_tag": "ABX9TyPYsTTVGJesxButHqVO2wek",
      "include_colab_link": true
    },
    "kernelspec": {
      "name": "python3",
      "display_name": "Python 3"
    },
    "language_info": {
      "name": "python"
    }
  },
  "cells": [
    {
      "cell_type": "markdown",
      "metadata": {
        "id": "view-in-github",
        "colab_type": "text"
      },
      "source": [
        "<a href=\"https://colab.research.google.com/github/bhattijasjeet/Datascience_ai/blob/main/Assignment_Mar_2.ipynb\" target=\"_parent\"><img src=\"https://colab.research.google.com/assets/colab-badge.svg\" alt=\"Open In Colab\"/></a>"
      ]
    },
    {
      "cell_type": "code",
      "execution_count": 4,
      "metadata": {
        "id": "Q3NLrIdCAYNI"
      },
      "outputs": [],
      "source": [
        "def swap_two_variables(x,y):\n",
        "    x, y=y, x\n",
        "    print (f\"x : {x}, y {y}\")"
      ]
    },
    {
      "cell_type": "code",
      "source": [
        "swap_two_variables(6,3)"
      ],
      "metadata": {
        "colab": {
          "base_uri": "https://localhost:8080/"
        },
        "id": "Vd3ZYxKoBlcO",
        "outputId": "f9905199-c01f-49e6-c2c5-226e1605f13d"
      },
      "execution_count": 5,
      "outputs": [
        {
          "output_type": "stream",
          "name": "stdout",
          "text": [
            "x : 3, y 6\n"
          ]
        }
      ]
    },
    {
      "cell_type": "code",
      "source": [
        "# swap two numbers without third variable\n",
        "\n",
        "def swap_two_variables(x,y):\n",
        "    x = x + y\n",
        "    y = x - y\n",
        "    x = x - y\n",
        "    print (f\"x : {x}, y {y}\")\n",
        "swap_two_variables(6,3)\n"
      ],
      "metadata": {
        "id": "ITraeWVrBtkZ"
      },
      "execution_count": null,
      "outputs": []
    }
  ]
}