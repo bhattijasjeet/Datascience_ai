{
  "nbformat": 4,
  "nbformat_minor": 0,
  "metadata": {
    "colab": {
      "provenance": [],
      "authorship_tag": "ABX9TyP5isCIw+kbp/OkwQKey5eR",
      "include_colab_link": true
    },
    "kernelspec": {
      "name": "python3",
      "display_name": "Python 3"
    },
    "language_info": {
      "name": "python"
    }
  },
  "cells": [
    {
      "cell_type": "markdown",
      "metadata": {
        "id": "view-in-github",
        "colab_type": "text"
      },
      "source": [
        "<a href=\"https://colab.research.google.com/github/bhattijasjeet/Datascience_ai/blob/main/class_work_09_march.ipynb\" target=\"_parent\"><img src=\"https://colab.research.google.com/assets/colab-badge.svg\" alt=\"Open In Colab\"/></a>"
      ]
    },
    {
      "cell_type": "code",
      "execution_count": 1,
      "metadata": {
        "id": "B2OlI9ZHbwzk"
      },
      "outputs": [],
      "source": [
        "def printnums(n,m,tab=\"\"):\n",
        "  print(f\"{tab} n={n},m={m}\")\n",
        "  if n==0:\n",
        "    result=[\"\"]\n",
        "    print(f\"{tab} {result} \")\n",
        "    return result\n",
        "  perms=printnums(n-1,m,tab=\"\\t\"+tab)\n",
        "  result=[]\n",
        "  for mm in range(m):\n",
        "      for perm in perms:\n",
        "          result.append(str(mm)+perm)\n",
        "  print(f\"{tab} {result}\")\n",
        "  return result"
      ]
    },
    {
      "cell_type": "code",
      "source": [
        "printnums(3,3)"
      ],
      "metadata": {
        "colab": {
          "base_uri": "https://localhost:8080/"
        },
        "id": "6Sd6j83Vc_g3",
        "outputId": "139e5323-b8bc-4da2-99b0-8c11645bcb8e"
      },
      "execution_count": 2,
      "outputs": [
        {
          "output_type": "stream",
          "name": "stdout",
          "text": [
            " n=3,m=3\n",
            "\t n=2,m=3\n",
            "\t\t n=1,m=3\n",
            "\t\t\t n=0,m=3\n",
            "\t\t\t [''] \n",
            "\t\t ['0', '1', '2']\n",
            "\t ['00', '01', '02', '10', '11', '12', '20', '21', '22']\n",
            " ['000', '001', '002', '010', '011', '012', '020', '021', '022', '100', '101', '102', '110', '111', '112', '120', '121', '122', '200', '201', '202', '210', '211', '212', '220', '221', '222']\n"
          ]
        },
        {
          "output_type": "execute_result",
          "data": {
            "text/plain": [
              "['000',\n",
              " '001',\n",
              " '002',\n",
              " '010',\n",
              " '011',\n",
              " '012',\n",
              " '020',\n",
              " '021',\n",
              " '022',\n",
              " '100',\n",
              " '101',\n",
              " '102',\n",
              " '110',\n",
              " '111',\n",
              " '112',\n",
              " '120',\n",
              " '121',\n",
              " '122',\n",
              " '200',\n",
              " '201',\n",
              " '202',\n",
              " '210',\n",
              " '211',\n",
              " '212',\n",
              " '220',\n",
              " '221',\n",
              " '222']"
            ]
          },
          "metadata": {},
          "execution_count": 2
        }
      ]
    },
    {
      "cell_type": "code",
      "source": [
        "def printstars(n):\n",
        "  for i in range(n,0,-1):\n",
        "      print(\"*\"*i)\n",
        "printstars(7)"
      ],
      "metadata": {
        "colab": {
          "base_uri": "https://localhost:8080/"
        },
        "id": "aHMPVvxYdFq-",
        "outputId": "469586b1-ab18-4a4f-a63b-3a4215d61e67"
      },
      "execution_count": 4,
      "outputs": [
        {
          "output_type": "stream",
          "name": "stdout",
          "text": [
            "*******\n",
            "******\n",
            "*****\n",
            "****\n",
            "***\n",
            "**\n",
            "*\n"
          ]
        }
      ]
    },
    {
      "cell_type": "code",
      "source": [
        "def printstars(n):\n",
        "  for i in range(n,0,-1):\n",
        "      print(\" \"*(n-i)+\"* \"*i)\n",
        "printstars(7)"
      ],
      "metadata": {
        "colab": {
          "base_uri": "https://localhost:8080/"
        },
        "id": "gf1W8VqtgHB0",
        "outputId": "da80a27a-6a34-4e10-fa47-b632755d6701"
      },
      "execution_count": 5,
      "outputs": [
        {
          "output_type": "stream",
          "name": "stdout",
          "text": [
            "* * * * * * * \n",
            " * * * * * * \n",
            "  * * * * * \n",
            "   * * * * \n",
            "    * * * \n",
            "     * * \n",
            "      * \n"
          ]
        }
      ]
    },
    {
      "cell_type": "code",
      "source": [],
      "metadata": {
        "id": "RzVawxmDgcT-"
      },
      "execution_count": null,
      "outputs": []
    }
  ]
}