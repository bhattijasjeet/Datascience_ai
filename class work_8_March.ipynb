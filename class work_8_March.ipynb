{
  "nbformat": 4,
  "nbformat_minor": 0,
  "metadata": {
    "colab": {
      "provenance": [],
      "authorship_tag": "ABX9TyM6Bt95ZkgTeF+JBL7Gha/G",
      "include_colab_link": true
    },
    "kernelspec": {
      "name": "python3",
      "display_name": "Python 3"
    },
    "language_info": {
      "name": "python"
    }
  },
  "cells": [
    {
      "cell_type": "markdown",
      "metadata": {
        "id": "view-in-github",
        "colab_type": "text"
      },
      "source": [
        "<a href=\"https://colab.research.google.com/github/bhattijasjeet/Datascience_ai/blob/main/Assignment_8_March.ipynb\" target=\"_parent\"><img src=\"https://colab.research.google.com/assets/colab-badge.svg\" alt=\"Open In Colab\"/></a>"
      ]
    },
    {
      "cell_type": "code",
      "execution_count": null,
      "metadata": {
        "colab": {
          "base_uri": "https://localhost:8080/"
        },
        "id": "trO4r3tCSY30",
        "outputId": "640d4b28-5959-43f5-8eb1-31099136c833"
      },
      "outputs": [
        {
          "output_type": "stream",
          "name": "stdout",
          "text": [
            "0 6\n",
            "2 7\n",
            "4 9\n"
          ]
        }
      ],
      "source": [
        "a = [6, 2, 7, 4, 9]\n",
        "for i, e in enumerate(a):\n",
        "    if i != e - 1:\n",
        "       print(i, e)"
      ]
    },
    {
      "cell_type": "code",
      "source": [
        "a= [1,23,5,[1,2,3],6.7,'jasjeet']\n",
        "for i in a:\n",
        "  print(type(i))\n"
      ],
      "metadata": {
        "colab": {
          "base_uri": "https://localhost:8080/"
        },
        "id": "EeidQii6Smfg",
        "outputId": "3632b648-cd9a-4044-8483-47b683b55030"
      },
      "execution_count": null,
      "outputs": [
        {
          "output_type": "stream",
          "name": "stdout",
          "text": [
            "<class 'int'>\n",
            "<class 'int'>\n",
            "<class 'int'>\n",
            "<class 'list'>\n",
            "<class 'float'>\n",
            "<class 'str'>\n"
          ]
        }
      ]
    },
    {
      "cell_type": "code",
      "source": [
        "names=[\"jasjeet\",\"upman\",\"tej\",\"eddy\"]\n",
        "other=[1,2,3,4]"
      ],
      "metadata": {
        "id": "-t0vBeeETBSj"
      },
      "execution_count": null,
      "outputs": []
    },
    {
      "cell_type": "code",
      "source": [
        "def my_zip(other,names):\n",
        "    output=[]\n",
        "    for i in range(len(names)):\n",
        "        oae=(other[i],names[i])\n",
        "        output.append(oae)\n",
        "    print(output)\n",
        "    return output"
      ],
      "metadata": {
        "colab": {
          "base_uri": "https://localhost:8080/"
        },
        "id": "qB05VFnsUCFg",
        "outputId": "def886d0-a80f-4a79-cfe6-d999c7b7daca"
      },
      "execution_count": null,
      "outputs": [
        {
          "output_type": "stream",
          "name": "stdout",
          "text": [
            "[(1, 'jasjeet'), (2, 'upman'), (3, 'tej'), (4, 'eddy')]\n"
          ]
        }
      ]
    },
    {
      "cell_type": "code",
      "source": [
        "myzip(names,other)"
      ],
      "metadata": {
        "id": "IPt3Udr1Uhvd"
      },
      "execution_count": null,
      "outputs": []
    },
    {
      "cell_type": "code",
      "source": [],
      "metadata": {
        "id": "ciZOVtDqWL-v"
      },
      "execution_count": null,
      "outputs": []
    }
  ]
}
