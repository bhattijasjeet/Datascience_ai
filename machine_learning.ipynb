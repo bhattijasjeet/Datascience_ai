{
  "nbformat": 4,
  "nbformat_minor": 0,
  "metadata": {
    "colab": {
      "provenance": [],
      "authorship_tag": "ABX9TyMJOAWSXVQ/YrU9KfCfo8+o",
      "include_colab_link": true
    },
    "kernelspec": {
      "name": "python3",
      "display_name": "Python 3"
    },
    "language_info": {
      "name": "python"
    }
  },
  "cells": [
    {
      "cell_type": "markdown",
      "metadata": {
        "id": "view-in-github",
        "colab_type": "text"
      },
      "source": [
        "<a href=\"https://colab.research.google.com/github/bhattijasjeet/Datascience_ai/blob/main/machine_learning.ipynb\" target=\"_parent\"><img src=\"https://colab.research.google.com/assets/colab-badge.svg\" alt=\"Open In Colab\"/></a>"
      ]
    },
    {
      "cell_type": "markdown",
      "source": [
        "You have two lists of numbers, actual and predicted, code the mean absolute error and mean square error"
      ],
      "metadata": {
        "id": "wMNIFvQSTO7b"
      }
    },
    {
      "cell_type": "code",
      "execution_count": null,
      "metadata": {
        "id": "-zGfQlFBMW4P"
      },
      "outputs": [],
      "source": [
        "a=[1,2,3]\n",
        "b=[3,4,5]\n",
        "\n",
        "def abs_error(a,b):\n",
        "  abs_error = 0\n",
        "  for a1,b1 in zip(a,b):\n",
        "    diff = a1 -b1\n",
        "    if diff <0:\n",
        "      diff = -diff\n",
        "    abs_error +=diff\n",
        "  return abs_error"
      ]
    },
    {
      "cell_type": "markdown",
      "source": [
        "KNN"
      ],
      "metadata": {
        "id": "a1YKqZ9OJ8GR"
      }
    },
    {
      "cell_type": "code",
      "source": [
        "def myknn(train_data, x):\n",
        "  nn=0\n",
        "  i=0\n",
        "  prev_delta=train_data[i][0]-x\n",
        "  while (i<len(train_data)):\n",
        "    delta=train_data[i][0]-x\n",
        "    if(abs(delta)<abs(prev_delta)):\n",
        "      prev_delta=delta\n",
        "      nn=train_data[i][1]\n",
        "    i+=1\n",
        "  return nn"
      ],
      "metadata": {
        "id": "qFZTk1XOHKHx"
      },
      "execution_count": null,
      "outputs": []
    },
    {
      "cell_type": "markdown",
      "source": [
        "model = TwoPointLine() #initialize\n",
        "\n",
        "model.fit([2,3],[5,9]) #learns from slop and intercept\n",
        "\n",
        "model.predict([3])"
      ],
      "metadata": {
        "id": "X27ct4IlrtX2"
      }
    },
    {
      "cell_type": "code",
      "source": [
        "class TwoPointLine:\n",
        "  def __init__(self,name):\n",
        "    self.name = name\n",
        "    print(f\"The class is created {name}\")\n",
        "\n",
        "  def fit(self,x,y):\n",
        "    if len(x)!=2 or len(y)!=2:\n",
        "      print(\"Error! Invalid data\")\n",
        "      return\n",
        "    x1,x2=x\n",
        "    y1,y2=y\n",
        "    #y=mx+c\n",
        "    m = (y2-y1)/(x2-x1)\n",
        "    c = y2-m*x2\n",
        "    self.params =(m,c)\n",
        "  def predict(self,x):\n",
        "    result=[]\n",
        "    m,c =self.params\n",
        "    result=[]\n",
        "    for xx in x:\n",
        "        yy = m*xx+c\n",
        "        result.append(yy)\n",
        "    return result\n",
        "\n",
        "\n"
      ],
      "metadata": {
        "id": "bJWeZ7H_sc8D"
      },
      "execution_count": 19,
      "outputs": []
    },
    {
      "cell_type": "code",
      "source": [
        "model = TwoPointLine(\"Jasjeet\") #initialize\n",
        "\n",
        "model.fit([2,5],[3,9]) #learns from slop and intercept\n",
        "\n",
        "model.predict([3])"
      ],
      "metadata": {
        "colab": {
          "base_uri": "https://localhost:8080/"
        },
        "id": "jCdN8pCft6CG",
        "outputId": "69d90d10-ffda-4cd3-9d1d-cf9480b54a1c"
      },
      "execution_count": 20,
      "outputs": [
        {
          "output_type": "stream",
          "name": "stdout",
          "text": [
            "The class is created Jasjeet\n"
          ]
        },
        {
          "output_type": "execute_result",
          "data": {
            "text/plain": [
              "[5.0]"
            ]
          },
          "metadata": {},
          "execution_count": 20
        }
      ]
    },
    {
      "cell_type": "code",
      "source": [
        ""
      ],
      "metadata": {
        "id": "ZwAIEPo0QX0F"
      },
      "execution_count": null,
      "outputs": []
    }
  ]
}