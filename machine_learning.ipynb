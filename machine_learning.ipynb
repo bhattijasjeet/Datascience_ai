{
  "nbformat": 4,
  "nbformat_minor": 0,
  "metadata": {
    "colab": {
      "provenance": [],
      "authorship_tag": "ABX9TyMcL9E0Dep8NJoxFKLMNCtr",
      "include_colab_link": true
    },
    "kernelspec": {
      "name": "python3",
      "display_name": "Python 3"
    },
    "language_info": {
      "name": "python"
    }
  },
  "cells": [
    {
      "cell_type": "markdown",
      "metadata": {
        "id": "view-in-github",
        "colab_type": "text"
      },
      "source": [
        "<a href=\"https://colab.research.google.com/github/bhattijasjeet/Datascience_ai/blob/main/machine_learning.ipynb\" target=\"_parent\"><img src=\"https://colab.research.google.com/assets/colab-badge.svg\" alt=\"Open In Colab\"/></a>"
      ]
    },
    {
      "cell_type": "markdown",
      "source": [
        "You have two lists of numbers, actual and predicted, code the mean absolute error and mean square error"
      ],
      "metadata": {
        "id": "wMNIFvQSTO7b"
      }
    },
    {
      "cell_type": "code",
      "execution_count": 1,
      "metadata": {
        "id": "-zGfQlFBMW4P"
      },
      "outputs": [],
      "source": [
        "a=[1,2,3]\n",
        "b=[3,4,5]\n",
        "\n",
        "def abs_error(a,b):\n",
        "  abs_error = 0\n",
        "  for a1,b1 in zip(a,b):\n",
        "    diff = a1 -b1\n",
        "    if diff <0:\n",
        "      diff = -diff\n",
        "    abs_error +=diff\n",
        "  return abs_error"
      ]
    },
    {
      "cell_type": "markdown",
      "source": [
        "KNN"
      ],
      "metadata": {
        "id": "a1YKqZ9OJ8GR"
      }
    },
    {
      "cell_type": "code",
      "source": [
        "def myknn(train_data, x):\n",
        "  nn=0\n",
        "  i=0\n",
        "  prev_delta=train_data[i][0]-x\n",
        "  while (i<len(train_data)):\n",
        "    delta=train_data[i][0]-x\n",
        "    if(abs(delta)<abs(prev_delta)):\n",
        "      prev_delta=delta\n",
        "      nn=train_data[i][1]\n",
        "    i+=1\n",
        "  return nn"
      ],
      "metadata": {
        "id": "qFZTk1XOHKHx"
      },
      "execution_count": 2,
      "outputs": []
    }
  ]
}