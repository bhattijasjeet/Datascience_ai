{
  "cells": [
    {
      "cell_type": "code",
      "execution_count": 1,
      "metadata": {
        "colab": {
          "base_uri": "https://localhost:8080/"
        },
        "id": "kFpi2CYkotU4",
        "outputId": "e5443a64-060f-4d7d-d98f-27af0e3c690b"
      },
      "outputs": [
        {
          "output_type": "execute_result",
          "data": {
            "text/plain": [
              "2"
            ]
          },
          "metadata": {},
          "execution_count": 1
        }
      ],
      "source": [
        "1+1"
      ]
    },
    {
      "cell_type": "code",
      "execution_count": 2,
      "metadata": {
        "id": "rac3vR-JotU5"
      },
      "outputs": [],
      "source": [
        "x = 30"
      ]
    },
    {
      "cell_type": "code",
      "execution_count": 3,
      "metadata": {
        "colab": {
          "base_uri": "https://localhost:8080/"
        },
        "id": "NAH0gQeootU6",
        "outputId": "62387a29-9c5a-423a-9ed4-02e630025a24"
      },
      "outputs": [
        {
          "output_type": "stream",
          "name": "stdout",
          "text": [
            "30\n"
          ]
        }
      ],
      "source": [
        "print(x)"
      ]
    },
    {
      "cell_type": "code",
      "execution_count": 4,
      "metadata": {
        "id": "m3G_5EDgotU6"
      },
      "outputs": [],
      "source": [
        "p = 100\n",
        "r = 10\n",
        "t = 5\n",
        "interest = p*r*t/100"
      ]
    },
    {
      "cell_type": "code",
      "execution_count": 5,
      "metadata": {
        "colab": {
          "base_uri": "https://localhost:8080/"
        },
        "id": "Y9mrnHp0otU6",
        "outputId": "2266dd3c-6681-4680-a7f7-a7c67b8e54a3"
      },
      "outputs": [
        {
          "output_type": "execute_result",
          "data": {
            "text/plain": [
              "50.0"
            ]
          },
          "metadata": {},
          "execution_count": 5
        }
      ],
      "source": [
        "interest"
      ]
    },
    {
      "cell_type": "markdown",
      "metadata": {
        "id": "t5Pt3B8AotU6"
      },
      "source": [
        "Q1: Choose your base between 3 and 13\n",
        "\n",
        "Q2: Add/Substraction single digit and multiple numbers in your number system\n",
        "\n",
        "Q3: Prepare a table of single digit multiplications in your number system.\n",
        "\n",
        "Q4: Multiply multiple digits in your number system\n",
        "\n",
        "Q5: Convert 1, 10, 20, 30, 100 from your base to base10.\n",
        "\n",
        "Q6. Write a strategy to convert a number in your base to base 10 in plain english or psedo code or code\n",
        "\n",
        "Q7. Write a strategy to convert a number in base N to base M in plain english or psedo code or code\n",
        "\n",
        "Q8."
      ]
    },
    {
      "cell_type": "markdown",
      "metadata": {
        "id": "gxPLbTCSotU7"
      },
      "source": [
        "Q: In base 10, how many numbers can you represent in 5 digits?\n",
        "_ _ _ _ _\n",
        "0 to 99999\n",
        "A: 10**5"
      ]
    },
    {
      "cell_type": "code",
      "execution_count": null,
      "metadata": {
        "id": "jvgKgYlMotU7"
      },
      "outputs": [],
      "source": [
        "1 -> 00001\n",
        "6 -> 00006"
      ]
    },
    {
      "cell_type": "markdown",
      "metadata": {
        "id": "ZZwYPetMotU7"
      },
      "source": [
        "Q: In base 7, how many numbers can you represent in 5 digits?\n",
        "\n",
        "A: 7**5"
      ]
    },
    {
      "cell_type": "markdown",
      "metadata": {
        "id": "gkh6Y8ARotU7"
      },
      "source": [
        "Q: In base B, how many numbers can you represent in d digits?\n",
        "\n",
        "A: B**d"
      ]
    },
    {
      "cell_type": "code",
      "execution_count": null,
      "metadata": {
        "scrolled": true,
        "id": "ULF-Q5ZzotU7",
        "outputId": "c5996374-a4a5-4d4f-ccb0-4961622cbcec"
      },
      "outputs": [
        {
          "name": "stdout",
          "output_type": "stream",
          "text": [
            "Object `need` not found.\n"
          ]
        }
      ],
      "source": [
        "# To represent to but not including 10000 in base10, how many digits do you need?"
      ]
    },
    {
      "cell_type": "markdown",
      "metadata": {
        "id": "glTqdRGqotU7"
      },
      "source": [
        "Q: To represent number up to 9999 in base10, how many digits do you need?\n",
        "\n",
        "A: Four\n",
        "Note: we are representing total 10000 numbers"
      ]
    },
    {
      "cell_type": "markdown",
      "metadata": {
        "id": "Eyn5UTxbotU7"
      },
      "source": [
        "Q: To represent N numbers, how many digits do we need in base 10?\n",
        "\n",
        "A: log10(N)"
      ]
    },
    {
      "cell_type": "code",
      "execution_count": null,
      "metadata": {
        "id": "U9QNGYn1otU7"
      },
      "outputs": [],
      "source": [
        "# Q: Compute log10 of 100\n",
        "A: log10(100) = 2"
      ]
    },
    {
      "cell_type": "code",
      "execution_count": null,
      "metadata": {
        "id": "7EXhPoQfotU7",
        "outputId": "803c7b2a-b21d-42cb-d458-6bce55ee3f0c"
      },
      "outputs": [
        {
          "data": {
            "text/plain": [
              "1.0"
            ]
          },
          "execution_count": 19,
          "metadata": {},
          "output_type": "execute_result"
        }
      ],
      "source": [
        "import math\n",
        "math.log10(10)"
      ]
    },
    {
      "cell_type": "code",
      "execution_count": null,
      "metadata": {
        "id": "gN3nVPiQotU7",
        "outputId": "a7607c5f-f130-4b6a-ac99-a4a7401ce307"
      },
      "outputs": [
        {
          "data": {
            "text/plain": [
              "3.0"
            ]
          },
          "execution_count": 20,
          "metadata": {},
          "output_type": "execute_result"
        }
      ],
      "source": [
        "math.log10(1000)"
      ]
    },
    {
      "cell_type": "code",
      "execution_count": null,
      "metadata": {
        "id": "2J-W21zlotU7",
        "outputId": "72c6590f-6b89-42bd-9c9c-21d10b2f4506"
      },
      "outputs": [
        {
          "data": {
            "text/plain": [
              "1.6989700043360187"
            ]
          },
          "execution_count": 26,
          "metadata": {},
          "output_type": "execute_result"
        }
      ],
      "source": [
        "math.log10(50)"
      ]
    },
    {
      "cell_type": "code",
      "execution_count": null,
      "metadata": {
        "id": "WcFGGtHxotU7",
        "outputId": "5ce95627-0068-41bf-aa79-74147898e388"
      },
      "outputs": [
        {
          "data": {
            "text/plain": [
              "50.10718442871759"
            ]
          },
          "execution_count": 25,
          "metadata": {},
          "output_type": "execute_result"
        }
      ],
      "source": [
        "10**1.6999"
      ]
    },
    {
      "cell_type": "code",
      "execution_count": null,
      "metadata": {
        "id": "jWA_nC0GotU7"
      },
      "outputs": [],
      "source": [
        "# log(346)"
      ]
    },
    {
      "cell_type": "code",
      "execution_count": null,
      "metadata": {
        "id": "nR625M-0otU7",
        "outputId": "cb9d20cf-24ab-4294-c1d0-5db67aff2f7f"
      },
      "outputs": [
        {
          "data": {
            "text/plain": [
              "281.8382931264455"
            ]
          },
          "execution_count": 31,
          "metadata": {},
          "output_type": "execute_result"
        }
      ],
      "source": [
        "10**2.45"
      ]
    },
    {
      "cell_type": "code",
      "execution_count": null,
      "metadata": {
        "id": "6i2p0hoEotU8",
        "outputId": "c082928f-80f2-4e8a-bca0-504ac5e5f183"
      },
      "outputs": [
        {
          "data": {
            "text/plain": [
              "398.1071705534973"
            ]
          },
          "execution_count": 32,
          "metadata": {},
          "output_type": "execute_result"
        }
      ],
      "source": [
        "10**2.6"
      ]
    },
    {
      "cell_type": "code",
      "execution_count": null,
      "metadata": {
        "id": "VkWIsKAxotU8",
        "outputId": "bd266098-2bcf-4254-d8ef-b7f22148d13c"
      },
      "outputs": [
        {
          "data": {
            "text/plain": [
              "331.1311214825911"
            ]
          },
          "execution_count": 33,
          "metadata": {},
          "output_type": "execute_result"
        }
      ],
      "source": [
        "10**2.52"
      ]
    },
    {
      "cell_type": "code",
      "execution_count": null,
      "metadata": {
        "id": "CHuthrDCotU8",
        "outputId": "ff340837-33d6-4963-b902-605cff2ea715"
      },
      "outputs": [
        {
          "data": {
            "text/plain": [
              "338.84415613920237"
            ]
          },
          "execution_count": 34,
          "metadata": {},
          "output_type": "execute_result"
        }
      ],
      "source": [
        "10**2.53"
      ]
    },
    {
      "cell_type": "code",
      "execution_count": null,
      "metadata": {
        "id": "wtFnvjfWotU8",
        "outputId": "feea30ec-0fa2-4e91-cc03-90cb132dd2ab"
      },
      "outputs": [
        {
          "data": {
            "text/plain": [
              "346.73685045253166"
            ]
          },
          "execution_count": 35,
          "metadata": {},
          "output_type": "execute_result"
        }
      ],
      "source": [
        "10**2.54"
      ]
    },
    {
      "cell_type": "code",
      "execution_count": null,
      "metadata": {
        "id": "vEv9rKC9otU8",
        "outputId": "bfb1d86d-2d05-4158-a7d3-33cf1d2371b8"
      },
      "outputs": [
        {
          "data": {
            "text/plain": [
              "345.93937782612204"
            ]
          },
          "execution_count": 38,
          "metadata": {},
          "output_type": "execute_result"
        }
      ],
      "source": [
        "10**2.539"
      ]
    },
    {
      "cell_type": "markdown",
      "metadata": {
        "id": "dVN8UFs2otU8"
      },
      "source": [
        "Q: Write your own algorithm or strategy to find log10. You can use 10**x."
      ]
    },
    {
      "cell_type": "code",
      "execution_count": null,
      "metadata": {
        "id": "m_6Bt1uMotU8"
      },
      "outputs": [],
      "source": [
        "# Q: To represent N numbers, how many digits do we need in base B?\n",
        "\n",
        "# A: logB(N)"
      ]
    },
    {
      "cell_type": "code",
      "execution_count": null,
      "metadata": {
        "id": "A-tyxXOrotU8"
      },
      "outputs": [],
      "source": []
    },
    {
      "cell_type": "markdown",
      "source": [
        "***Supporting Functions***"
      ],
      "metadata": {
        "id": "Zc333cRSn6rK"
      }
    },
    {
      "cell_type": "code",
      "source": [
        "def print_number_system(number_to_print, base, glyphs_base):\n",
        "    start_num = glyphs_base[0]\n",
        "    ns = [\"0\"]\n",
        "    for x in range(number_to_print-1):\n",
        "        next_num = ns_add(start_num, \"1\", base, glyphs_base)\n",
        "        start_num = next_num\n",
        "        ns = ns + [next_num]\n",
        "    print (ns)"
      ],
      "metadata": {
        "id": "zvQ08metoEt2"
      },
      "execution_count": 5,
      "outputs": []
    },
    {
      "cell_type": "code",
      "source": [
        "def ns_add(num1, num2, base, glyphs_base):\n",
        "    iterator =  len(num1) if len(num1)>len(num2)  else len(num2)\n",
        "    num1 = fix_and_reverse_numbers(num1, iterator)\n",
        "    num2 = fix_and_reverse_numbers(num2, iterator)\n",
        "    carry_forward = \"0\"\n",
        "    sum = \"\"\n",
        "    for i in range(iterator):\n",
        "      sum_single_digit = add_single_digit_number(num1[i],num2[i], base, glyphs_base)\n",
        "      sum_carry_forward = add_single_digit_number(carry_forward, sum_single_digit[len(sum_single_digit)-1], base, glyphs_base)\n",
        "      carry_forward = \"1\" if len(sum_single_digit)>1 or len(sum_carry_forward)>1 else \"0\"\n",
        "      sum = sum + sum_carry_forward[len(sum_carry_forward)-1]\n",
        "    sum = sum + carry_forward if carry_forward!=\"0\" else sum\n",
        "    return fix_and_reverse_numbers(sum, len(sum))"
      ],
      "metadata": {
        "id": "G7L8FUyypAew"
      },
      "execution_count": 10,
      "outputs": []
    },
    {
      "cell_type": "code",
      "source": [
        "def fix_and_reverse_numbers(num, dig):\n",
        "    fixed_number = num[::-1]\n",
        "    for i in range(dig - len(fixed_number)):\n",
        "        fixed_number+=\"0\"\n",
        "    return fixed_number"
      ],
      "metadata": {
        "id": "dDtQTsSOpX_7"
      },
      "execution_count": 12,
      "outputs": []
    },
    {
      "cell_type": "markdown",
      "source": [
        "Q1. Choose your base between 3 and 13"
      ],
      "metadata": {
        "id": "8PCcAypOnCPk"
      }
    },
    {
      "cell_type": "code",
      "source": [
        "base = 10\n",
        "glyphs = [\"0\", \"1\", \"2\", \"3\", \"4\", \"5\", \"6\", \"7\", \"8\", \"9\", \"A\", \"B\", \"C\", \"D\", \"E\"]\n",
        "glyphs_base = glyphs[0:base]"
      ],
      "metadata": {
        "id": "Rh9HrwQFnOdA"
      },
      "execution_count": 8,
      "outputs": []
    },
    {
      "cell_type": "code",
      "source": [
        "# Print Number system\n",
        "print_number_system(50, base, glyphs_base)"
      ],
      "metadata": {
        "colab": {
          "base_uri": "https://localhost:8080/",
          "height": 311
        },
        "id": "pVInA8FBnYji",
        "outputId": "70ce3772-5b36-4d88-f432-af16006f9418"
      },
      "execution_count": 13,
      "outputs": [
        {
          "output_type": "error",
          "ename": "NameError",
          "evalue": "name 'add_single_digit_number' is not defined",
          "traceback": [
            "\u001b[0;31m---------------------------------------------------------------------------\u001b[0m",
            "\u001b[0;31mNameError\u001b[0m                                 Traceback (most recent call last)",
            "\u001b[0;32m<ipython-input-13-54d0b4b34498>\u001b[0m in \u001b[0;36m<cell line: 0>\u001b[0;34m()\u001b[0m\n\u001b[1;32m      1\u001b[0m \u001b[0;31m# Print Number system\u001b[0m\u001b[0;34m\u001b[0m\u001b[0;34m\u001b[0m\u001b[0m\n\u001b[0;32m----> 2\u001b[0;31m \u001b[0mprint_number_system\u001b[0m\u001b[0;34m(\u001b[0m\u001b[0;36m50\u001b[0m\u001b[0;34m,\u001b[0m \u001b[0mbase\u001b[0m\u001b[0;34m,\u001b[0m \u001b[0mglyphs_base\u001b[0m\u001b[0;34m)\u001b[0m\u001b[0;34m\u001b[0m\u001b[0;34m\u001b[0m\u001b[0m\n\u001b[0m",
            "\u001b[0;32m<ipython-input-5-0b2c95dd6404>\u001b[0m in \u001b[0;36mprint_number_system\u001b[0;34m(number_to_print, base, glyphs_base)\u001b[0m\n\u001b[1;32m      3\u001b[0m     \u001b[0mns\u001b[0m \u001b[0;34m=\u001b[0m \u001b[0;34m[\u001b[0m\u001b[0;34m\"0\"\u001b[0m\u001b[0;34m]\u001b[0m\u001b[0;34m\u001b[0m\u001b[0;34m\u001b[0m\u001b[0m\n\u001b[1;32m      4\u001b[0m     \u001b[0;32mfor\u001b[0m \u001b[0mx\u001b[0m \u001b[0;32min\u001b[0m \u001b[0mrange\u001b[0m\u001b[0;34m(\u001b[0m\u001b[0mnumber_to_print\u001b[0m\u001b[0;34m-\u001b[0m\u001b[0;36m1\u001b[0m\u001b[0;34m)\u001b[0m\u001b[0;34m:\u001b[0m\u001b[0;34m\u001b[0m\u001b[0;34m\u001b[0m\u001b[0m\n\u001b[0;32m----> 5\u001b[0;31m         \u001b[0mnext_num\u001b[0m \u001b[0;34m=\u001b[0m \u001b[0mns_add\u001b[0m\u001b[0;34m(\u001b[0m\u001b[0mstart_num\u001b[0m\u001b[0;34m,\u001b[0m \u001b[0;34m\"1\"\u001b[0m\u001b[0;34m,\u001b[0m \u001b[0mbase\u001b[0m\u001b[0;34m,\u001b[0m \u001b[0mglyphs_base\u001b[0m\u001b[0;34m)\u001b[0m\u001b[0;34m\u001b[0m\u001b[0;34m\u001b[0m\u001b[0m\n\u001b[0m\u001b[1;32m      6\u001b[0m         \u001b[0mstart_num\u001b[0m \u001b[0;34m=\u001b[0m \u001b[0mnext_num\u001b[0m\u001b[0;34m\u001b[0m\u001b[0;34m\u001b[0m\u001b[0m\n\u001b[1;32m      7\u001b[0m         \u001b[0mns\u001b[0m \u001b[0;34m=\u001b[0m \u001b[0mns\u001b[0m \u001b[0;34m+\u001b[0m \u001b[0;34m[\u001b[0m\u001b[0mnext_num\u001b[0m\u001b[0;34m]\u001b[0m\u001b[0;34m\u001b[0m\u001b[0;34m\u001b[0m\u001b[0m\n",
            "\u001b[0;32m<ipython-input-10-e7ad10652142>\u001b[0m in \u001b[0;36mns_add\u001b[0;34m(num1, num2, base, glyphs_base)\u001b[0m\n\u001b[1;32m      6\u001b[0m     \u001b[0msum\u001b[0m \u001b[0;34m=\u001b[0m \u001b[0;34m\"\"\u001b[0m\u001b[0;34m\u001b[0m\u001b[0;34m\u001b[0m\u001b[0m\n\u001b[1;32m      7\u001b[0m     \u001b[0;32mfor\u001b[0m \u001b[0mi\u001b[0m \u001b[0;32min\u001b[0m \u001b[0mrange\u001b[0m\u001b[0;34m(\u001b[0m\u001b[0miterator\u001b[0m\u001b[0;34m)\u001b[0m\u001b[0;34m:\u001b[0m\u001b[0;34m\u001b[0m\u001b[0;34m\u001b[0m\u001b[0m\n\u001b[0;32m----> 8\u001b[0;31m       \u001b[0msum_single_digit\u001b[0m \u001b[0;34m=\u001b[0m \u001b[0madd_single_digit_number\u001b[0m\u001b[0;34m(\u001b[0m\u001b[0mnum1\u001b[0m\u001b[0;34m[\u001b[0m\u001b[0mi\u001b[0m\u001b[0;34m]\u001b[0m\u001b[0;34m,\u001b[0m\u001b[0mnum2\u001b[0m\u001b[0;34m[\u001b[0m\u001b[0mi\u001b[0m\u001b[0;34m]\u001b[0m\u001b[0;34m,\u001b[0m \u001b[0mbase\u001b[0m\u001b[0;34m,\u001b[0m \u001b[0mglyphs_base\u001b[0m\u001b[0;34m)\u001b[0m\u001b[0;34m\u001b[0m\u001b[0;34m\u001b[0m\u001b[0m\n\u001b[0m\u001b[1;32m      9\u001b[0m       \u001b[0msum_carry_forward\u001b[0m \u001b[0;34m=\u001b[0m \u001b[0madd_single_digit_number\u001b[0m\u001b[0;34m(\u001b[0m\u001b[0mcarry_forward\u001b[0m\u001b[0;34m,\u001b[0m \u001b[0msum_single_digit\u001b[0m\u001b[0;34m[\u001b[0m\u001b[0mlen\u001b[0m\u001b[0;34m(\u001b[0m\u001b[0msum_single_digit\u001b[0m\u001b[0;34m)\u001b[0m\u001b[0;34m-\u001b[0m\u001b[0;36m1\u001b[0m\u001b[0;34m]\u001b[0m\u001b[0;34m,\u001b[0m \u001b[0mbase\u001b[0m\u001b[0;34m,\u001b[0m \u001b[0mglyphs_base\u001b[0m\u001b[0;34m)\u001b[0m\u001b[0;34m\u001b[0m\u001b[0;34m\u001b[0m\u001b[0m\n\u001b[1;32m     10\u001b[0m       \u001b[0mcarry_forward\u001b[0m \u001b[0;34m=\u001b[0m \u001b[0;34m\"1\"\u001b[0m \u001b[0;32mif\u001b[0m \u001b[0mlen\u001b[0m\u001b[0;34m(\u001b[0m\u001b[0msum_single_digit\u001b[0m\u001b[0;34m)\u001b[0m\u001b[0;34m>\u001b[0m\u001b[0;36m1\u001b[0m \u001b[0;32mor\u001b[0m \u001b[0mlen\u001b[0m\u001b[0;34m(\u001b[0m\u001b[0msum_carry_forward\u001b[0m\u001b[0;34m)\u001b[0m\u001b[0;34m>\u001b[0m\u001b[0;36m1\u001b[0m \u001b[0;32melse\u001b[0m \u001b[0;34m\"0\"\u001b[0m\u001b[0;34m\u001b[0m\u001b[0;34m\u001b[0m\u001b[0m\n",
            "\u001b[0;31mNameError\u001b[0m: name 'add_single_digit_number' is not defined"
          ]
        }
      ]
    },
    {
      "cell_type": "markdown",
      "source": [],
      "metadata": {
        "id": "FDVCWpl2nc9H"
      }
    }
  ],
  "metadata": {
    "kernelspec": {
      "display_name": "Python 3",
      "language": "python",
      "name": "python3"
    },
    "language_info": {
      "codemirror_mode": {
        "name": "ipython",
        "version": 3
      },
      "file_extension": ".py",
      "mimetype": "text/x-python",
      "name": "python",
      "nbconvert_exporter": "python",
      "pygments_lexer": "ipython3",
      "version": "3.6.8"
    },
    "toc": {
      "base_numbering": 1,
      "nav_menu": {},
      "number_sections": true,
      "sideBar": true,
      "skip_h1_title": false,
      "title_cell": "Table of Contents",
      "title_sidebar": "Contents",
      "toc_cell": false,
      "toc_position": {},
      "toc_section_display": true,
      "toc_window_display": false
    },
    "colab": {
      "provenance": []
    }
  },
  "nbformat": 4,
  "nbformat_minor": 0
}