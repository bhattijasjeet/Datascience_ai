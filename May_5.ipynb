{
  "nbformat": 4,
  "nbformat_minor": 0,
  "metadata": {
    "colab": {
      "provenance": [],
      "authorship_tag": "ABX9TyOmJgAuZIniEf9VgXCvXyYW",
      "include_colab_link": true
    },
    "kernelspec": {
      "name": "python3",
      "display_name": "Python 3"
    },
    "language_info": {
      "name": "python"
    }
  },
  "cells": [
    {
      "cell_type": "markdown",
      "metadata": {
        "id": "view-in-github",
        "colab_type": "text"
      },
      "source": [
        "<a href=\"https://colab.research.google.com/github/bhattijasjeet/Datascience_ai/blob/main/May_5.ipynb\" target=\"_parent\"><img src=\"https://colab.research.google.com/assets/colab-badge.svg\" alt=\"Open In Colab\"/></a>"
      ]
    },
    {
      "cell_type": "code",
      "execution_count": 5,
      "metadata": {
        "id": "ZmNP653O7Ix3"
      },
      "outputs": [],
      "source": [
        "def sort(arr):\n",
        "    for i in range(len(arr)):\n",
        "        for j in range(i+1, len(arr)):\n",
        "            if arr[i] > arr[j]:\n",
        "                arr[i], arr[j] = arr[j], arr[i]\n",
        "    return arr"
      ]
    },
    {
      "cell_type": "code",
      "source": [
        "arr = [5, 4, 3, 2, 1]\n",
        "print(sort(arr))"
      ],
      "metadata": {
        "colab": {
          "base_uri": "https://localhost:8080/"
        },
        "id": "oiXRfL5K7Q3d",
        "outputId": "dae32c5b-5bd1-4a8a-e9d4-51d1fd38df66"
      },
      "execution_count": 6,
      "outputs": [
        {
          "output_type": "stream",
          "name": "stdout",
          "text": [
            "[1, 2, 3, 4, 5]\n"
          ]
        }
      ]
    },
    {
      "cell_type": "code",
      "source": [],
      "metadata": {
        "id": "xukalHrM7xpj"
      },
      "execution_count": null,
      "outputs": []
    }
  ]
}