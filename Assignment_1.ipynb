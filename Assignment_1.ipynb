{
  "cells": [
    {
      "cell_type": "code",
      "execution_count": 1,
      "metadata": {
        "colab": {
          "base_uri": "https://localhost:8080/"
        },
        "id": "kFpi2CYkotU4",
        "outputId": "e5443a64-060f-4d7d-d98f-27af0e3c690b"
      },
      "outputs": [
        {
          "output_type": "execute_result",
          "data": {
            "text/plain": [
              "2"
            ]
          },
          "metadata": {},
          "execution_count": 1
        }
      ],
      "source": [
        "1+1"
      ]
    },
    {
      "cell_type": "code",
      "execution_count": 2,
      "metadata": {
        "id": "rac3vR-JotU5"
      },
      "outputs": [],
      "source": [
        "x = 30"
      ]
    },
    {
      "cell_type": "code",
      "execution_count": 3,
      "metadata": {
        "colab": {
          "base_uri": "https://localhost:8080/"
        },
        "id": "NAH0gQeootU6",
        "outputId": "62387a29-9c5a-423a-9ed4-02e630025a24"
      },
      "outputs": [
        {
          "output_type": "stream",
          "name": "stdout",
          "text": [
            "30\n"
          ]
        }
      ],
      "source": [
        "print(x)"
      ]
    },
    {
      "cell_type": "code",
      "execution_count": 4,
      "metadata": {
        "id": "m3G_5EDgotU6"
      },
      "outputs": [],
      "source": [
        "p = 100\n",
        "r = 10\n",
        "t = 5\n",
        "interest = p*r*t/100"
      ]
    },
    {
      "cell_type": "code",
      "execution_count": 5,
      "metadata": {
        "colab": {
          "base_uri": "https://localhost:8080/"
        },
        "id": "Y9mrnHp0otU6",
        "outputId": "2266dd3c-6681-4680-a7f7-a7c67b8e54a3"
      },
      "outputs": [
        {
          "output_type": "execute_result",
          "data": {
            "text/plain": [
              "50.0"
            ]
          },
          "metadata": {},
          "execution_count": 5
        }
      ],
      "source": [
        "interest"
      ]
    },
    {
      "cell_type": "markdown",
      "metadata": {
        "id": "t5Pt3B8AotU6"
      },
      "source": [
        "Q1: Choose your base between 3 and 13\n",
        "\n",
        "Q2: Add/Substraction single digit and multiple numbers in your number system\n",
        "\n",
        "Q3: Prepare a table of single digit multiplications in your number system.\n",
        "\n",
        "Q4: Multiply multiple digits in your number system\n",
        "\n",
        "Q5: Convert 1, 10, 20, 30, 100 from your base to base10.\n",
        "\n",
        "Q6. Write a strategy to convert a number in your base to base 10 in plain english or psedo code or code\n",
        "\n",
        "Q7. Write a strategy to convert a number in base N to base M in plain english or psedo code or code\n",
        "\n",
        "Q8."
      ]
    },
    {
      "cell_type": "markdown",
      "metadata": {
        "id": "gxPLbTCSotU7"
      },
      "source": [
        "Q: In base 10, how many numbers can you represent in 5 digits?\n",
        "_ _ _ _ _\n",
        "0 to 99999\n",
        "A: 10**5"
      ]
    },
    {
      "cell_type": "code",
      "execution_count": null,
      "metadata": {
        "id": "jvgKgYlMotU7"
      },
      "outputs": [],
      "source": [
        "1 -> 00001\n",
        "6 -> 00006"
      ]
    },
    {
      "cell_type": "markdown",
      "metadata": {
        "id": "ZZwYPetMotU7"
      },
      "source": [
        "Q: In base 7, how many numbers can you represent in 5 digits?\n",
        "\n",
        "A: 7**5"
      ]
    },
    {
      "cell_type": "markdown",
      "metadata": {
        "id": "gkh6Y8ARotU7"
      },
      "source": [
        "Q: In base B, how many numbers can you represent in d digits?\n",
        "\n",
        "A: B**d"
      ]
    },
    {
      "cell_type": "code",
      "execution_count": null,
      "metadata": {
        "scrolled": true,
        "id": "ULF-Q5ZzotU7",
        "outputId": "c5996374-a4a5-4d4f-ccb0-4961622cbcec"
      },
      "outputs": [
        {
          "name": "stdout",
          "output_type": "stream",
          "text": [
            "Object `need` not found.\n"
          ]
        }
      ],
      "source": [
        "# To represent to but not including 10000 in base10, how many digits do you need?"
      ]
    },
    {
      "cell_type": "markdown",
      "metadata": {
        "id": "glTqdRGqotU7"
      },
      "source": [
        "Q: To represent number up to 9999 in base10, how many digits do you need?\n",
        "\n",
        "A: Four\n",
        "Note: we are representing total 10000 numbers"
      ]
    },
    {
      "cell_type": "markdown",
      "metadata": {
        "id": "Eyn5UTxbotU7"
      },
      "source": [
        "Q: To represent N numbers, how many digits do we need in base 10?\n",
        "\n",
        "A: log10(N)"
      ]
    },
    {
      "cell_type": "code",
      "execution_count": null,
      "metadata": {
        "id": "U9QNGYn1otU7"
      },
      "outputs": [],
      "source": [
        "# Q: Compute log10 of 100\n",
        "A: log10(100) = 2"
      ]
    },
    {
      "cell_type": "code",
      "execution_count": null,
      "metadata": {
        "id": "7EXhPoQfotU7",
        "outputId": "803c7b2a-b21d-42cb-d458-6bce55ee3f0c"
      },
      "outputs": [
        {
          "data": {
            "text/plain": [
              "1.0"
            ]
          },
          "execution_count": 19,
          "metadata": {},
          "output_type": "execute_result"
        }
      ],
      "source": [
        "import math\n",
        "math.log10(10)"
      ]
    },
    {
      "cell_type": "code",
      "execution_count": null,
      "metadata": {
        "id": "gN3nVPiQotU7",
        "outputId": "a7607c5f-f130-4b6a-ac99-a4a7401ce307"
      },
      "outputs": [
        {
          "data": {
            "text/plain": [
              "3.0"
            ]
          },
          "execution_count": 20,
          "metadata": {},
          "output_type": "execute_result"
        }
      ],
      "source": [
        "math.log10(1000)"
      ]
    },
    {
      "cell_type": "code",
      "execution_count": null,
      "metadata": {
        "id": "2J-W21zlotU7",
        "outputId": "72c6590f-6b89-42bd-9c9c-21d10b2f4506"
      },
      "outputs": [
        {
          "data": {
            "text/plain": [
              "1.6989700043360187"
            ]
          },
          "execution_count": 26,
          "metadata": {},
          "output_type": "execute_result"
        }
      ],
      "source": [
        "math.log10(50)"
      ]
    },
    {
      "cell_type": "code",
      "execution_count": null,
      "metadata": {
        "id": "WcFGGtHxotU7",
        "outputId": "5ce95627-0068-41bf-aa79-74147898e388"
      },
      "outputs": [
        {
          "data": {
            "text/plain": [
              "50.10718442871759"
            ]
          },
          "execution_count": 25,
          "metadata": {},
          "output_type": "execute_result"
        }
      ],
      "source": [
        "10**1.6999"
      ]
    },
    {
      "cell_type": "code",
      "execution_count": null,
      "metadata": {
        "id": "jWA_nC0GotU7"
      },
      "outputs": [],
      "source": [
        "# log(346)"
      ]
    },
    {
      "cell_type": "code",
      "execution_count": null,
      "metadata": {
        "id": "nR625M-0otU7",
        "outputId": "cb9d20cf-24ab-4294-c1d0-5db67aff2f7f"
      },
      "outputs": [
        {
          "data": {
            "text/plain": [
              "281.8382931264455"
            ]
          },
          "execution_count": 31,
          "metadata": {},
          "output_type": "execute_result"
        }
      ],
      "source": [
        "10**2.45"
      ]
    },
    {
      "cell_type": "code",
      "execution_count": null,
      "metadata": {
        "id": "6i2p0hoEotU8",
        "outputId": "c082928f-80f2-4e8a-bca0-504ac5e5f183"
      },
      "outputs": [
        {
          "data": {
            "text/plain": [
              "398.1071705534973"
            ]
          },
          "execution_count": 32,
          "metadata": {},
          "output_type": "execute_result"
        }
      ],
      "source": [
        "10**2.6"
      ]
    },
    {
      "cell_type": "code",
      "execution_count": null,
      "metadata": {
        "id": "VkWIsKAxotU8",
        "outputId": "bd266098-2bcf-4254-d8ef-b7f22148d13c"
      },
      "outputs": [
        {
          "data": {
            "text/plain": [
              "331.1311214825911"
            ]
          },
          "execution_count": 33,
          "metadata": {},
          "output_type": "execute_result"
        }
      ],
      "source": [
        "10**2.52"
      ]
    },
    {
      "cell_type": "code",
      "execution_count": null,
      "metadata": {
        "id": "CHuthrDCotU8",
        "outputId": "ff340837-33d6-4963-b902-605cff2ea715"
      },
      "outputs": [
        {
          "data": {
            "text/plain": [
              "338.84415613920237"
            ]
          },
          "execution_count": 34,
          "metadata": {},
          "output_type": "execute_result"
        }
      ],
      "source": [
        "10**2.53"
      ]
    },
    {
      "cell_type": "code",
      "execution_count": null,
      "metadata": {
        "id": "wtFnvjfWotU8",
        "outputId": "feea30ec-0fa2-4e91-cc03-90cb132dd2ab"
      },
      "outputs": [
        {
          "data": {
            "text/plain": [
              "346.73685045253166"
            ]
          },
          "execution_count": 35,
          "metadata": {},
          "output_type": "execute_result"
        }
      ],
      "source": [
        "10**2.54"
      ]
    },
    {
      "cell_type": "code",
      "execution_count": null,
      "metadata": {
        "id": "vEv9rKC9otU8",
        "outputId": "bfb1d86d-2d05-4158-a7d3-33cf1d2371b8"
      },
      "outputs": [
        {
          "data": {
            "text/plain": [
              "345.93937782612204"
            ]
          },
          "execution_count": 38,
          "metadata": {},
          "output_type": "execute_result"
        }
      ],
      "source": [
        "10**2.539"
      ]
    },
    {
      "cell_type": "markdown",
      "metadata": {
        "id": "dVN8UFs2otU8"
      },
      "source": [
        "Q: Write your own algorithm or strategy to find log10. You can use 10**x."
      ]
    },
    {
      "cell_type": "code",
      "execution_count": null,
      "metadata": {
        "id": "m_6Bt1uMotU8"
      },
      "outputs": [],
      "source": [
        "# Q: To represent N numbers, how many digits do we need in base B?\n",
        "\n",
        "# A: logB(N)"
      ]
    },
    {
      "cell_type": "code",
      "execution_count": null,
      "metadata": {
        "id": "A-tyxXOrotU8"
      },
      "outputs": [],
      "source": []
    },
    {
      "cell_type": "markdown",
      "source": [
        "**Q1. Choose your base between 3 and 13**\n",
        "\n"
      ],
      "metadata": {
        "id": "8PCcAypOnCPk"
      }
    },
    {
      "cell_type": "code",
      "source": [
        "import random\n",
        "\n",
        "def choose_base():\n",
        "    return random.randint(3, 13)\n",
        "\n",
        "# Example usage\n",
        "base = choose_base()\n",
        "print(f\"Chosen base: {base}\")\n"
      ],
      "metadata": {
        "colab": {
          "base_uri": "https://localhost:8080/"
        },
        "id": "Rh9HrwQFnOdA",
        "outputId": "3f3265ff-feca-4f2b-c666-78dfa5b0b228"
      },
      "execution_count": 14,
      "outputs": [
        {
          "output_type": "stream",
          "name": "stdout",
          "text": [
            "Chosen base: 3\n"
          ]
        }
      ]
    },
    {
      "cell_type": "markdown",
      "source": [
        "**Q2: Addition and Subtraction in Custom Base**"
      ],
      "metadata": {
        "id": "FDVCWpl2nc9H"
      }
    },
    {
      "cell_type": "code",
      "source": [
        "def add_in_base(a, b, base):\n",
        "    return int(str(a), base) + int(str(b), base)\n",
        "\n",
        "def subtract_in_base(a, b, base):\n",
        "    return int(str(a), base) - int(str(b), base)\n",
        "\n",
        "base = 5\n",
        "a, b = \"12\", \"3\"\n",
        "print(f\"Addition in base {base}: {add_in_base(a, b, base)}\")\n",
        "print(f\"Subtraction in base {base}: {subtract_in_base(a, b, base)}\")"
      ],
      "metadata": {
        "id": "NnC7044TAXe9",
        "outputId": "0cbfebbc-0576-450f-c816-23ff73a290b6",
        "colab": {
          "base_uri": "https://localhost:8080/"
        }
      },
      "execution_count": 15,
      "outputs": [
        {
          "output_type": "stream",
          "name": "stdout",
          "text": [
            "Addition in base 5: 10\n",
            "Subtraction in base 5: 4\n"
          ]
        }
      ]
    },
    {
      "cell_type": "markdown",
      "source": [
        "**Q3: Multiplication Table in Custom Base**\n"
      ],
      "metadata": {
        "id": "e3Z03s3RAc_m"
      }
    },
    {
      "cell_type": "code",
      "source": [
        "def multiplication_table(base):\n",
        "    table = {}\n",
        "    for i in range(base):\n",
        "        for j in range(base):\n",
        "            table[(i, j)] = (i * j) % base\n",
        "    return table\n",
        "\n",
        "# Example usage\n",
        "base = 12\n",
        "table = multiplication_table(base)\n",
        "for (i, j), result in table.items():\n",
        "    print(f\"{i} × {j} = {result} in base {base}\")\n"
      ],
      "metadata": {
        "id": "t81vshTxCjEi",
        "outputId": "4f3d733e-7c3d-45c4-ac2f-bae9f154165a",
        "colab": {
          "base_uri": "https://localhost:8080/"
        }
      },
      "execution_count": 18,
      "outputs": [
        {
          "output_type": "stream",
          "name": "stdout",
          "text": [
            "0 × 0 = 0 in base 12\n",
            "0 × 1 = 0 in base 12\n",
            "0 × 2 = 0 in base 12\n",
            "0 × 3 = 0 in base 12\n",
            "0 × 4 = 0 in base 12\n",
            "0 × 5 = 0 in base 12\n",
            "0 × 6 = 0 in base 12\n",
            "0 × 7 = 0 in base 12\n",
            "0 × 8 = 0 in base 12\n",
            "0 × 9 = 0 in base 12\n",
            "0 × 10 = 0 in base 12\n",
            "0 × 11 = 0 in base 12\n",
            "1 × 0 = 0 in base 12\n",
            "1 × 1 = 1 in base 12\n",
            "1 × 2 = 2 in base 12\n",
            "1 × 3 = 3 in base 12\n",
            "1 × 4 = 4 in base 12\n",
            "1 × 5 = 5 in base 12\n",
            "1 × 6 = 6 in base 12\n",
            "1 × 7 = 7 in base 12\n",
            "1 × 8 = 8 in base 12\n",
            "1 × 9 = 9 in base 12\n",
            "1 × 10 = 10 in base 12\n",
            "1 × 11 = 11 in base 12\n",
            "2 × 0 = 0 in base 12\n",
            "2 × 1 = 2 in base 12\n",
            "2 × 2 = 4 in base 12\n",
            "2 × 3 = 6 in base 12\n",
            "2 × 4 = 8 in base 12\n",
            "2 × 5 = 10 in base 12\n",
            "2 × 6 = 0 in base 12\n",
            "2 × 7 = 2 in base 12\n",
            "2 × 8 = 4 in base 12\n",
            "2 × 9 = 6 in base 12\n",
            "2 × 10 = 8 in base 12\n",
            "2 × 11 = 10 in base 12\n",
            "3 × 0 = 0 in base 12\n",
            "3 × 1 = 3 in base 12\n",
            "3 × 2 = 6 in base 12\n",
            "3 × 3 = 9 in base 12\n",
            "3 × 4 = 0 in base 12\n",
            "3 × 5 = 3 in base 12\n",
            "3 × 6 = 6 in base 12\n",
            "3 × 7 = 9 in base 12\n",
            "3 × 8 = 0 in base 12\n",
            "3 × 9 = 3 in base 12\n",
            "3 × 10 = 6 in base 12\n",
            "3 × 11 = 9 in base 12\n",
            "4 × 0 = 0 in base 12\n",
            "4 × 1 = 4 in base 12\n",
            "4 × 2 = 8 in base 12\n",
            "4 × 3 = 0 in base 12\n",
            "4 × 4 = 4 in base 12\n",
            "4 × 5 = 8 in base 12\n",
            "4 × 6 = 0 in base 12\n",
            "4 × 7 = 4 in base 12\n",
            "4 × 8 = 8 in base 12\n",
            "4 × 9 = 0 in base 12\n",
            "4 × 10 = 4 in base 12\n",
            "4 × 11 = 8 in base 12\n",
            "5 × 0 = 0 in base 12\n",
            "5 × 1 = 5 in base 12\n",
            "5 × 2 = 10 in base 12\n",
            "5 × 3 = 3 in base 12\n",
            "5 × 4 = 8 in base 12\n",
            "5 × 5 = 1 in base 12\n",
            "5 × 6 = 6 in base 12\n",
            "5 × 7 = 11 in base 12\n",
            "5 × 8 = 4 in base 12\n",
            "5 × 9 = 9 in base 12\n",
            "5 × 10 = 2 in base 12\n",
            "5 × 11 = 7 in base 12\n",
            "6 × 0 = 0 in base 12\n",
            "6 × 1 = 6 in base 12\n",
            "6 × 2 = 0 in base 12\n",
            "6 × 3 = 6 in base 12\n",
            "6 × 4 = 0 in base 12\n",
            "6 × 5 = 6 in base 12\n",
            "6 × 6 = 0 in base 12\n",
            "6 × 7 = 6 in base 12\n",
            "6 × 8 = 0 in base 12\n",
            "6 × 9 = 6 in base 12\n",
            "6 × 10 = 0 in base 12\n",
            "6 × 11 = 6 in base 12\n",
            "7 × 0 = 0 in base 12\n",
            "7 × 1 = 7 in base 12\n",
            "7 × 2 = 2 in base 12\n",
            "7 × 3 = 9 in base 12\n",
            "7 × 4 = 4 in base 12\n",
            "7 × 5 = 11 in base 12\n",
            "7 × 6 = 6 in base 12\n",
            "7 × 7 = 1 in base 12\n",
            "7 × 8 = 8 in base 12\n",
            "7 × 9 = 3 in base 12\n",
            "7 × 10 = 10 in base 12\n",
            "7 × 11 = 5 in base 12\n",
            "8 × 0 = 0 in base 12\n",
            "8 × 1 = 8 in base 12\n",
            "8 × 2 = 4 in base 12\n",
            "8 × 3 = 0 in base 12\n",
            "8 × 4 = 8 in base 12\n",
            "8 × 5 = 4 in base 12\n",
            "8 × 6 = 0 in base 12\n",
            "8 × 7 = 8 in base 12\n",
            "8 × 8 = 4 in base 12\n",
            "8 × 9 = 0 in base 12\n",
            "8 × 10 = 8 in base 12\n",
            "8 × 11 = 4 in base 12\n",
            "9 × 0 = 0 in base 12\n",
            "9 × 1 = 9 in base 12\n",
            "9 × 2 = 6 in base 12\n",
            "9 × 3 = 3 in base 12\n",
            "9 × 4 = 0 in base 12\n",
            "9 × 5 = 9 in base 12\n",
            "9 × 6 = 6 in base 12\n",
            "9 × 7 = 3 in base 12\n",
            "9 × 8 = 0 in base 12\n",
            "9 × 9 = 9 in base 12\n",
            "9 × 10 = 6 in base 12\n",
            "9 × 11 = 3 in base 12\n",
            "10 × 0 = 0 in base 12\n",
            "10 × 1 = 10 in base 12\n",
            "10 × 2 = 8 in base 12\n",
            "10 × 3 = 6 in base 12\n",
            "10 × 4 = 4 in base 12\n",
            "10 × 5 = 2 in base 12\n",
            "10 × 6 = 0 in base 12\n",
            "10 × 7 = 10 in base 12\n",
            "10 × 8 = 8 in base 12\n",
            "10 × 9 = 6 in base 12\n",
            "10 × 10 = 4 in base 12\n",
            "10 × 11 = 2 in base 12\n",
            "11 × 0 = 0 in base 12\n",
            "11 × 1 = 11 in base 12\n",
            "11 × 2 = 10 in base 12\n",
            "11 × 3 = 9 in base 12\n",
            "11 × 4 = 8 in base 12\n",
            "11 × 5 = 7 in base 12\n",
            "11 × 6 = 6 in base 12\n",
            "11 × 7 = 5 in base 12\n",
            "11 × 8 = 4 in base 12\n",
            "11 × 9 = 3 in base 12\n",
            "11 × 10 = 2 in base 12\n",
            "11 × 11 = 1 in base 12\n"
          ]
        }
      ]
    },
    {
      "cell_type": "markdown",
      "source": [
        "**Q4: Multiplication of Multi-Digit Numbers in Custom Base**"
      ],
      "metadata": {
        "id": "VSCun7J2DQeS"
      }
    },
    {
      "cell_type": "code",
      "source": [
        "def multiply_in_base(a, b, base):\n",
        "    a_base10 = int(str(a), base)\n",
        "    b_base10 = int(str(b), base)\n",
        "    result_base10 = a_base10 * b_base10\n",
        "    return convert_to_base(result_base10, base)\n",
        "\n",
        "def convert_to_base(num, base):\n",
        "    if num == 0:\n",
        "        return \"0\"\n",
        "    digits = []\n",
        "    while num:\n",
        "        digits.append(str(num % base))\n",
        "        num //= base\n",
        "    return ''.join(digits[::-1])\n",
        "\n",
        "base = 6\n",
        "a, b = \"14\", \"3\"  # Numbers in base 6\n",
        "print(f\"Multiplication in base {base}: {multiply_in_base(a, b, base)}\")\n"
      ],
      "metadata": {
        "id": "M7MGIiLZDWq2",
        "outputId": "ab3bb443-91a1-4094-86f6-d5a3b8808342",
        "colab": {
          "base_uri": "https://localhost:8080/"
        }
      },
      "execution_count": 19,
      "outputs": [
        {
          "output_type": "stream",
          "name": "stdout",
          "text": [
            "Multiplication in base 6: 50\n"
          ]
        }
      ]
    },
    {
      "cell_type": "markdown",
      "source": [
        "**Q5: Convert 1, 10, 20, 30, 100 from Custom Base to Base 10**\n"
      ],
      "metadata": {
        "id": "1i12IWC5Dicm"
      }
    },
    {
      "cell_type": "code",
      "source": [
        "def base_to_decimal(num, base):\n",
        "    return int(str(num), base)\n",
        "\n",
        "# Example usage\n",
        "base = 7\n",
        "numbers = [\"1\", \"10\", \"20\", \"30\", \"100\"]\n",
        "converted = {num: base_to_decimal(num, base) for num in numbers}\n",
        "print(f\"Conversion from base {base} to base 10: {converted}\")"
      ],
      "metadata": {
        "id": "Qj7Zp5D_DZnD",
        "outputId": "1392ea1f-332b-4568-c15f-eecf55ab86bc",
        "colab": {
          "base_uri": "https://localhost:8080/"
        }
      },
      "execution_count": 20,
      "outputs": [
        {
          "output_type": "stream",
          "name": "stdout",
          "text": [
            "Conversion from base 7 to base 10: {'1': 1, '10': 7, '20': 14, '30': 21, '100': 49}\n"
          ]
        }
      ]
    },
    {
      "cell_type": "markdown",
      "source": [
        "**Q6: Strategy to Convert from Base N to Base 10**"
      ],
      "metadata": {
        "id": "59SESDsfDq4W"
      }
    },
    {
      "cell_type": "code",
      "source": [
        "def base_n_to_base_10(num, base):\n",
        "    return sum(int(digit) * (base ** i) for i, digit in enumerate(reversed(str(num))))\n",
        "\n",
        "# Example usage\n",
        "print(base_n_to_base_10(\"101\", 2))  # Binary to decimal\n",
        "print(base_n_to_base_10(\"210\", 3))  # Base 3 to decimal\n"
      ],
      "metadata": {
        "id": "cIIy8Lv3D5WM",
        "outputId": "95afbeb7-a0ec-43be-ca20-8709197a87b5",
        "colab": {
          "base_uri": "https://localhost:8080/"
        }
      },
      "execution_count": 21,
      "outputs": [
        {
          "output_type": "stream",
          "name": "stdout",
          "text": [
            "5\n",
            "21\n"
          ]
        }
      ]
    },
    {
      "cell_type": "markdown",
      "source": [
        "**Q7: Strategy to Convert a Number from Base N to Base M**"
      ],
      "metadata": {
        "id": "jz504gbwD_5a"
      }
    },
    {
      "cell_type": "code",
      "source": [
        "def base_n_to_m(num, base_n, base_m):\n",
        "    decimal_value = base_n_to_base_10(num, base_n)\n",
        "    return convert_to_base(decimal_value, base_m)\n",
        "\n",
        "# Example usage\n",
        "print(base_n_to_m(\"101\", 2, 8))  # Binary to Octal\n",
        "print(base_n_to_m(\"210\", 3, 5))  # Base 3 to Base 5\n"
      ],
      "metadata": {
        "id": "LXPIpZb2EHXe",
        "outputId": "91a06f12-a614-4fe1-d703-f3b2427e617b",
        "colab": {
          "base_uri": "https://localhost:8080/"
        }
      },
      "execution_count": 22,
      "outputs": [
        {
          "output_type": "stream",
          "name": "stdout",
          "text": [
            "5\n",
            "41\n"
          ]
        }
      ]
    },
    {
      "cell_type": "markdown",
      "source": [
        "**Q8: How Many Numbers Can Be Represented in 5 Digits in Base 10?**"
      ],
      "metadata": {
        "id": "78aTS5B2EbAC"
      }
    },
    {
      "cell_type": "code",
      "source": [
        "def count_numbers_in_digits(digits, base=10):\n",
        "    return base ** digits\n",
        "\n",
        "# Example usage\n",
        "print(count_numbers_in_digits(5))  # 100000"
      ],
      "metadata": {
        "id": "f4FQg6YDEjUy",
        "outputId": "78ff8b93-7c0e-4f2c-b4b8-5a8970a58a63",
        "colab": {
          "base_uri": "https://localhost:8080/"
        }
      },
      "execution_count": 23,
      "outputs": [
        {
          "output_type": "stream",
          "name": "stdout",
          "text": [
            "100000\n"
          ]
        }
      ]
    },
    {
      "cell_type": "markdown",
      "source": [
        "Q: Write your own algorithm or strategy to find log10. You can use 10**x."
      ],
      "metadata": {
        "id": "rUUlVGTpErNv"
      }
    },
    {
      "cell_type": "code",
      "source": [
        "def log10_power(x):\n",
        "    if x <= 0:\n",
        "        raise ValueError(\"log10 is undefined for zero or negative numbers\")\n",
        "\n",
        "    count = 0\n",
        "    while x >= 10:\n",
        "        x /= 10\n",
        "        count += 1\n",
        "    while x < 1:\n",
        "        x *= 10\n",
        "        count -= 1\n",
        "\n",
        "    # Approximate fractional part using binary search\n",
        "    low, high = 0, 1\n",
        "    while high - low > 1e-6:\n",
        "        mid = (low + high) / 2\n",
        "        if 10 ** mid < x:\n",
        "            low = mid\n",
        "        else:\n",
        "            high = mid\n",
        "\n",
        "    return count + (low + high) / 2\n",
        "\n",
        "print(round(log10_power(100)))  # Should be close to 2\n",
        "print(round(log10_power(1000)))  # Should be close to 3\n",
        "print(round(log10_power(50)) )   # Should be close to 1.69897\n",
        "print(round(log10_power(0.1)) )  # Should be close to -1\n"
      ],
      "metadata": {
        "id": "64XmIWYGEp7j",
        "outputId": "d4966e9c-d0e7-423b-cd5e-d44f4fbb709a",
        "colab": {
          "base_uri": "https://localhost:8080/"
        }
      },
      "execution_count": 26,
      "outputs": [
        {
          "output_type": "stream",
          "name": "stdout",
          "text": [
            "2\n",
            "3\n",
            "2\n",
            "-1\n"
          ]
        }
      ]
    },
    {
      "cell_type": "code",
      "source": [],
      "metadata": {
        "id": "OB53z_euHh65"
      },
      "execution_count": null,
      "outputs": []
    }
  ],
  "metadata": {
    "kernelspec": {
      "display_name": "Python 3",
      "language": "python",
      "name": "python3"
    },
    "language_info": {
      "codemirror_mode": {
        "name": "ipython",
        "version": 3
      },
      "file_extension": ".py",
      "mimetype": "text/x-python",
      "name": "python",
      "nbconvert_exporter": "python",
      "pygments_lexer": "ipython3",
      "version": "3.6.8"
    },
    "toc": {
      "base_numbering": 1,
      "nav_menu": {},
      "number_sections": true,
      "sideBar": true,
      "skip_h1_title": false,
      "title_cell": "Table of Contents",
      "title_sidebar": "Contents",
      "toc_cell": false,
      "toc_position": {},
      "toc_section_display": true,
      "toc_window_display": false
    },
    "colab": {
      "provenance": []
    }
  },
  "nbformat": 4,
  "nbformat_minor": 0
}